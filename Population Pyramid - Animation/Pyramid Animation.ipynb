{
 "cells": [
  {
   "cell_type": "code",
   "execution_count": 49,
   "id": "b1892e51",
   "metadata": {},
   "outputs": [],
   "source": [
    "from celluloid import Camera\n",
    "from matplotlib.animation import PillowWriter\n",
    "import seaborn as sns\n",
    "import matplotlib.pyplot as plt\n",
    "import numpy as np\n",
    "import pandas as pd"
   ]
  },
  {
   "cell_type": "code",
   "execution_count": 2,
   "id": "2aa2f0a1",
   "metadata": {},
   "outputs": [],
   "source": [
    "data = pd.read_csv(\"population_pyramid_1950-2022.csv\")"
   ]
  },
  {
   "cell_type": "code",
   "execution_count": 3,
   "id": "a869f2c8",
   "metadata": {},
   "outputs": [],
   "source": [
    "data_turkey = data[data.Country == 'Turkey']"
   ]
  },
  {
   "cell_type": "code",
   "execution_count": 4,
   "id": "4491394b",
   "metadata": {},
   "outputs": [],
   "source": [
    "data_turkey.reset_index(drop=True,inplace=True)"
   ]
  },
  {
   "cell_type": "code",
   "execution_count": 5,
   "id": "86e544dc",
   "metadata": {},
   "outputs": [],
   "source": [
    "del data"
   ]
  },
  {
   "cell_type": "code",
   "execution_count": 6,
   "id": "c5f3a472",
   "metadata": {},
   "outputs": [],
   "source": [
    "%matplotlib qt"
   ]
  },
  {
   "cell_type": "code",
   "execution_count": 7,
   "id": "aa4c0b70",
   "metadata": {},
   "outputs": [],
   "source": [
    "sns.set_theme(\n",
    "    context='paper',\n",
    "    style='ticks',\n",
    "    palette='pastel')"
   ]
  },
  {
   "cell_type": "code",
   "execution_count": 8,
   "id": "a5da892b",
   "metadata": {},
   "outputs": [],
   "source": [
    "years = list(data_turkey.Year.unique())\n",
    "x_ =list(data_turkey.Age.unique())\n",
    "x = [*range(1,len(x_)+1)]"
   ]
  },
  {
   "cell_type": "code",
   "execution_count": 54,
   "id": "47c9a3ec",
   "metadata": {},
   "outputs": [],
   "source": [
    "fig,ax = plt.subplots(figsize=(8.5,7))\n",
    "\n",
    "camera = Camera(fig)\n",
    "\n",
    "for year in years:\n",
    "    \n",
    "    ax.set_title(\"Population of Turkey\".format(year),fontdict={\"fontsize\":18})\n",
    "    \n",
    "    y = data_turkey[data_turkey.Year == year][\"M\"]\n",
    "    y2 = -data_turkey[data_turkey.Year == year][\"F\"]\n",
    "    \n",
    "    ax.text(3e6,21.05,f\"Year: {year}\".format(year),fontdict={\"fontsize\":12})\n",
    "    \n",
    "    M = ax.barh(x,y,alpha=0.5,color=\"#87CEFA\")\n",
    "    F = ax.barh(x,y2,alpha=0.5,color=\"#FFC0CB\")\n",
    "\n",
    "    ax.scatter(y,x,c=\"#FF0000\",alpha=0.75)\n",
    "    ax.scatter(y2,x,c=\"#FF0000\",alpha=0.75)\n",
    "\n",
    "    ax.bar_label(M,labels=[str(abs(i))  for i in y],label_type=\"edge\",padding=8,)\n",
    "    ax.bar_label(F,labels=[str(abs(i))  for i in y2],label_type=\"edge\",padding=8)\n",
    "    \n",
    "    \n",
    "    camera.snap()\n",
    "    \n",
    "ax.set_yticks(x,x_)\n",
    "ax.set_xticks([])\n",
    "ax.axvline(0,color=\"#FF0000\",ls=\"--\",alpha=0.35)\n",
    "ax.set_xlim(-4.5e6,4.5e6)\n",
    "sns.despine(left=True)\n",
    "ax.grid(True,alpha=0.45,ls=\"-.\")\n",
    "\n",
    "plt.xlabel(\"F - M\",fontdict={\"fontsize\":12})\n",
    "plt.ylabel(\"Age\",fontdict={\"fontsize\":12})\n",
    "\n",
    "plt.tight_layout()\n",
    "\n",
    "\n",
    "animation = camera.animate(interval=400,blit=True)\n",
    "plt.show()"
   ]
  },
  {
   "cell_type": "code",
   "execution_count": null,
   "id": "f7f250f7",
   "metadata": {},
   "outputs": [],
   "source": []
  }
 ],
 "metadata": {
  "kernelspec": {
   "display_name": "Python 3 (ipykernel)",
   "language": "python",
   "name": "python3"
  },
  "language_info": {
   "codemirror_mode": {
    "name": "ipython",
    "version": 3
   },
   "file_extension": ".py",
   "mimetype": "text/x-python",
   "name": "python",
   "nbconvert_exporter": "python",
   "pygments_lexer": "ipython3",
   "version": "3.10.9"
  }
 },
 "nbformat": 4,
 "nbformat_minor": 5
}
