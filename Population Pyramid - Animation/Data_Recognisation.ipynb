{
 "cells": [
  {
   "cell_type": "code",
   "execution_count": 40,
   "id": "38b0af47",
   "metadata": {},
   "outputs": [],
   "source": [
    "import pandas as pd\n",
    "import numpy as np\n",
    "import matplotlib.pyplot as plt\n",
    "import seaborn as sns"
   ]
  },
  {
   "cell_type": "code",
   "execution_count": 2,
   "id": "b8d17c03",
   "metadata": {},
   "outputs": [],
   "source": [
    "data = pd.read_csv(\"population_pyramid_1950-2022.csv\")"
   ]
  },
  {
   "cell_type": "code",
   "execution_count": 3,
   "id": "7e836277",
   "metadata": {},
   "outputs": [
    {
     "data": {
      "text/plain": [
       "(44604, 5)"
      ]
     },
     "execution_count": 3,
     "metadata": {},
     "output_type": "execute_result"
    }
   ],
   "source": [
    "data.shape"
   ]
  },
  {
   "cell_type": "code",
   "execution_count": 4,
   "id": "53a2d05d",
   "metadata": {},
   "outputs": [
    {
     "name": "stdout",
     "output_type": "stream",
     "text": [
      "<class 'pandas.core.frame.DataFrame'>\n",
      "RangeIndex: 44604 entries, 0 to 44603\n",
      "Data columns (total 5 columns):\n",
      " #   Column   Non-Null Count  Dtype \n",
      "---  ------   --------------  ----- \n",
      " 0   Country  44604 non-null  object\n",
      " 1   Year     44604 non-null  int64 \n",
      " 2   Age      44604 non-null  object\n",
      " 3   M        44604 non-null  int64 \n",
      " 4   F        44604 non-null  int64 \n",
      "dtypes: int64(3), object(2)\n",
      "memory usage: 1.7+ MB\n"
     ]
    }
   ],
   "source": [
    "data.info()"
   ]
  },
  {
   "cell_type": "code",
   "execution_count": 5,
   "id": "d83dd7f6",
   "metadata": {},
   "outputs": [
    {
     "data": {
      "text/html": [
       "<div>\n",
       "<style scoped>\n",
       "    .dataframe tbody tr th:only-of-type {\n",
       "        vertical-align: middle;\n",
       "    }\n",
       "\n",
       "    .dataframe tbody tr th {\n",
       "        vertical-align: top;\n",
       "    }\n",
       "\n",
       "    .dataframe thead th {\n",
       "        text-align: right;\n",
       "    }\n",
       "</style>\n",
       "<table border=\"1\" class=\"dataframe\">\n",
       "  <thead>\n",
       "    <tr style=\"text-align: right;\">\n",
       "      <th></th>\n",
       "      <th>Country</th>\n",
       "      <th>Year</th>\n",
       "      <th>Age</th>\n",
       "      <th>M</th>\n",
       "      <th>F</th>\n",
       "    </tr>\n",
       "  </thead>\n",
       "  <tbody>\n",
       "    <tr>\n",
       "      <th>0</th>\n",
       "      <td>Afghanistan</td>\n",
       "      <td>1950</td>\n",
       "      <td>0-4</td>\n",
       "      <td>630044</td>\n",
       "      <td>661578</td>\n",
       "    </tr>\n",
       "    <tr>\n",
       "      <th>1</th>\n",
       "      <td>Afghanistan</td>\n",
       "      <td>1950</td>\n",
       "      <td>5-9</td>\n",
       "      <td>516206</td>\n",
       "      <td>487335</td>\n",
       "    </tr>\n",
       "    <tr>\n",
       "      <th>2</th>\n",
       "      <td>Afghanistan</td>\n",
       "      <td>1950</td>\n",
       "      <td>10-14</td>\n",
       "      <td>461378</td>\n",
       "      <td>423326</td>\n",
       "    </tr>\n",
       "    <tr>\n",
       "      <th>3</th>\n",
       "      <td>Afghanistan</td>\n",
       "      <td>1950</td>\n",
       "      <td>15-19</td>\n",
       "      <td>414369</td>\n",
       "      <td>369363</td>\n",
       "    </tr>\n",
       "    <tr>\n",
       "      <th>4</th>\n",
       "      <td>Afghanistan</td>\n",
       "      <td>1950</td>\n",
       "      <td>20-24</td>\n",
       "      <td>374109</td>\n",
       "      <td>318392</td>\n",
       "    </tr>\n",
       "  </tbody>\n",
       "</table>\n",
       "</div>"
      ],
      "text/plain": [
       "       Country  Year    Age       M       F\n",
       "0  Afghanistan  1950    0-4  630044  661578\n",
       "1  Afghanistan  1950    5-9  516206  487335\n",
       "2  Afghanistan  1950  10-14  461378  423326\n",
       "3  Afghanistan  1950  15-19  414369  369363\n",
       "4  Afghanistan  1950  20-24  374109  318392"
      ]
     },
     "execution_count": 5,
     "metadata": {},
     "output_type": "execute_result"
    }
   ],
   "source": [
    "data.head()"
   ]
  },
  {
   "cell_type": "code",
   "execution_count": 8,
   "id": "6feb7bf5",
   "metadata": {},
   "outputs": [],
   "source": [
    "data_turkey = data[data.Country == 'Turkey']"
   ]
  },
  {
   "cell_type": "code",
   "execution_count": 10,
   "id": "e81d42f7",
   "metadata": {},
   "outputs": [],
   "source": [
    "data_turkey.reset_index(drop=True,inplace=True)"
   ]
  },
  {
   "cell_type": "code",
   "execution_count": 17,
   "id": "e65e3d80",
   "metadata": {},
   "outputs": [
    {
     "data": {
      "text/html": [
       "<div>\n",
       "<style scoped>\n",
       "    .dataframe tbody tr th:only-of-type {\n",
       "        vertical-align: middle;\n",
       "    }\n",
       "\n",
       "    .dataframe tbody tr th {\n",
       "        vertical-align: top;\n",
       "    }\n",
       "\n",
       "    .dataframe thead th {\n",
       "        text-align: right;\n",
       "    }\n",
       "</style>\n",
       "<table border=\"1\" class=\"dataframe\">\n",
       "  <thead>\n",
       "    <tr style=\"text-align: right;\">\n",
       "      <th></th>\n",
       "      <th>Country</th>\n",
       "      <th>Year</th>\n",
       "      <th>Age</th>\n",
       "      <th>M</th>\n",
       "      <th>F</th>\n",
       "    </tr>\n",
       "  </thead>\n",
       "  <tbody>\n",
       "    <tr>\n",
       "      <th>0</th>\n",
       "      <td>Turkey</td>\n",
       "      <td>1950</td>\n",
       "      <td>0-4</td>\n",
       "      <td>1725570</td>\n",
       "      <td>1642975</td>\n",
       "    </tr>\n",
       "    <tr>\n",
       "      <th>1</th>\n",
       "      <td>Turkey</td>\n",
       "      <td>1950</td>\n",
       "      <td>5-9</td>\n",
       "      <td>1389678</td>\n",
       "      <td>1285647</td>\n",
       "    </tr>\n",
       "    <tr>\n",
       "      <th>2</th>\n",
       "      <td>Turkey</td>\n",
       "      <td>1950</td>\n",
       "      <td>10-14</td>\n",
       "      <td>1298598</td>\n",
       "      <td>1101694</td>\n",
       "    </tr>\n",
       "    <tr>\n",
       "      <th>3</th>\n",
       "      <td>Turkey</td>\n",
       "      <td>1950</td>\n",
       "      <td>15-19</td>\n",
       "      <td>1281496</td>\n",
       "      <td>1128634</td>\n",
       "    </tr>\n",
       "    <tr>\n",
       "      <th>4</th>\n",
       "      <td>Turkey</td>\n",
       "      <td>1950</td>\n",
       "      <td>20-24</td>\n",
       "      <td>998819</td>\n",
       "      <td>981955</td>\n",
       "    </tr>\n",
       "  </tbody>\n",
       "</table>\n",
       "</div>"
      ],
      "text/plain": [
       "  Country  Year    Age        M        F\n",
       "0  Turkey  1950    0-4  1725570  1642975\n",
       "1  Turkey  1950    5-9  1389678  1285647\n",
       "2  Turkey  1950  10-14  1298598  1101694\n",
       "3  Turkey  1950  15-19  1281496  1128634\n",
       "4  Turkey  1950  20-24   998819   981955"
      ]
     },
     "execution_count": 17,
     "metadata": {},
     "output_type": "execute_result"
    }
   ],
   "source": [
    "data_turkey.head()"
   ]
  },
  {
   "cell_type": "code",
   "execution_count": 31,
   "id": "7cc8a755",
   "metadata": {},
   "outputs": [],
   "source": [
    "total_population = data_turkey.groupby(\"Year\")[[\"M\",\"F\"]]"
   ]
  },
  {
   "cell_type": "code",
   "execution_count": 34,
   "id": "d091db63",
   "metadata": {},
   "outputs": [],
   "source": [
    "x = total_population.index\n",
    "y = total_population.M + total_population.F"
   ]
  },
  {
   "cell_type": "code",
   "execution_count": 52,
   "id": "e877dc97",
   "metadata": {},
   "outputs": [
    {
     "data": {
      "image/png": "[encoded data removed]",
      "text/plain": [
       "<Figure size 640x480 with 1 Axes>"
      ]
     },
     "metadata": {},
     "output_type": "display_data"
    }
   ],
   "source": [
    "sns.lineplot(y)\n",
    "sns.despine()\n",
    "\n",
    "plt.grid(True,alpha=0.5)\n",
    "plt.show()"
   ]
  },
  {
   "cell_type": "code",
   "execution_count": 70,
   "id": "8828bbd7",
   "metadata": {},
   "outputs": [
    {
     "data": {
      "image/png": "[encoded data removed]",
      "text/plain": [
       "<Figure size 640x480 with 1 Axes>"
      ]
     },
     "metadata": {},
     "output_type": "display_data"
    }
   ],
   "source": [
    "x_ = [*range(1,len(x)+1)]\n",
    "plt.barh(x_,y)\n",
    "plt.yticks(x_,x)\n",
    "plt.grid(True,alpha=0.3)\n",
    "plt.tight_layout()\n",
    "plt.show()"
   ]
  },
  {
   "cell_type": "code",
   "execution_count": null,
   "id": "608b2452",
   "metadata": {},
   "outputs": [],
   "source": []
  }
 ],
 "metadata": {
  "kernelspec": {
   "display_name": "Python 3 (ipykernel)",
   "language": "python",
   "name": "python3"
  },
  "language_info": {
   "codemirror_mode": {
    "name": "ipython",
    "version": 3
   },
   "file_extension": ".py",
   "mimetype": "text/x-python",
   "name": "python",
   "nbconvert_exporter": "python",
   "pygments_lexer": "ipython3",
   "version": "3.10.9"
  }
 },
 "nbformat": 4,
 "nbformat_minor": 5
}
