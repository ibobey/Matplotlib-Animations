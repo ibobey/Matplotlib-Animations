{
 "cells": [
  {
   "cell_type": "code",
   "execution_count": 1,
   "id": "3cb535a2",
   "metadata": {},
   "outputs": [],
   "source": [
    "import pandas as pd\n",
    "import numpy as np\n",
    "import seaborn as sns\n",
    "import matplotlib.pyplot as plt\n",
    "from numpy import ndarray"
   ]
  },
  {
   "cell_type": "code",
   "execution_count": 2,
   "id": "4db26396",
   "metadata": {},
   "outputs": [],
   "source": [
    "data = pd.read_csv(\"population_data\")"
   ]
  },
  {
   "cell_type": "code",
   "execution_count": 3,
   "id": "3f4d80a8",
   "metadata": {},
   "outputs": [
    {
     "data": {
      "text/html": [
       "<div>\n",
       "<style scoped>\n",
       "    .dataframe tbody tr th:only-of-type {\n",
       "        vertical-align: middle;\n",
       "    }\n",
       "\n",
       "    .dataframe tbody tr th {\n",
       "        vertical-align: top;\n",
       "    }\n",
       "\n",
       "    .dataframe thead th {\n",
       "        text-align: right;\n",
       "    }\n",
       "</style>\n",
       "<table border=\"1\" class=\"dataframe\">\n",
       "  <thead>\n",
       "    <tr style=\"text-align: right;\">\n",
       "      <th></th>\n",
       "      <th>Age Group</th>\n",
       "      <th>Year</th>\n",
       "      <th>Males</th>\n",
       "      <th>Females</th>\n",
       "    </tr>\n",
       "  </thead>\n",
       "  <tbody>\n",
       "    <tr>\n",
       "      <th>0</th>\n",
       "      <td>0 to 4 years</td>\n",
       "      <td>1971</td>\n",
       "      <td>938,835</td>\n",
       "      <td>897,314</td>\n",
       "    </tr>\n",
       "    <tr>\n",
       "      <th>1</th>\n",
       "      <td>NaN</td>\n",
       "      <td>1972</td>\n",
       "      <td>921,965</td>\n",
       "      <td>879,950</td>\n",
       "    </tr>\n",
       "    <tr>\n",
       "      <th>2</th>\n",
       "      <td>NaN</td>\n",
       "      <td>1973</td>\n",
       "      <td>916,686</td>\n",
       "      <td>871,480</td>\n",
       "    </tr>\n",
       "    <tr>\n",
       "      <th>3</th>\n",
       "      <td>NaN</td>\n",
       "      <td>1974</td>\n",
       "      <td>911,727</td>\n",
       "      <td>865,968</td>\n",
       "    </tr>\n",
       "    <tr>\n",
       "      <th>4</th>\n",
       "      <td>NaN</td>\n",
       "      <td>1975</td>\n",
       "      <td>908,801</td>\n",
       "      <td>862,260</td>\n",
       "    </tr>\n",
       "  </tbody>\n",
       "</table>\n",
       "</div>"
      ],
      "text/plain": [
       "      Age Group  Year    Males  Females\n",
       "0  0 to 4 years  1971  938,835  897,314\n",
       "1           NaN  1972  921,965  879,950\n",
       "2           NaN  1973  916,686  871,480\n",
       "3           NaN  1974  911,727  865,968\n",
       "4           NaN  1975  908,801  862,260"
      ]
     },
     "execution_count": 3,
     "metadata": {},
     "output_type": "execute_result"
    }
   ],
   "source": [
    "data.head()"
   ]
  },
  {
   "cell_type": "code",
   "execution_count": 4,
   "id": "b9cd9129",
   "metadata": {},
   "outputs": [],
   "source": [
    "data.rename(columns={\n",
    "    'Age Group': \"Age\",\n",
    "    'Year': \"Year\",\n",
    "    'Males': \"Males\", \n",
    "    'Females':\"Females\"},inplace=True)"
   ]
  },
  {
   "cell_type": "code",
   "execution_count": 5,
   "id": "b980f67b",
   "metadata": {},
   "outputs": [],
   "source": [
    "data.Age = data.Age.fillna(method=\"ffill\")"
   ]
  },
  {
   "cell_type": "code",
   "execution_count": 6,
   "id": "bd221d8a",
   "metadata": {},
   "outputs": [
    {
     "name": "stdout",
     "output_type": "stream",
     "text": [
      "<class 'pandas.core.frame.DataFrame'>\n",
      "RangeIndex: 918 entries, 0 to 917\n",
      "Data columns (total 4 columns):\n",
      " #   Column   Non-Null Count  Dtype \n",
      "---  ------   --------------  ----- \n",
      " 0   Age      918 non-null    object\n",
      " 1   Year     918 non-null    int64 \n",
      " 2   Males    918 non-null    object\n",
      " 3   Females  918 non-null    object\n",
      "dtypes: int64(1), object(3)\n",
      "memory usage: 28.8+ KB\n"
     ]
    }
   ],
   "source": [
    "data.info()"
   ]
  },
  {
   "cell_type": "code",
   "execution_count": 7,
   "id": "2f77a706",
   "metadata": {},
   "outputs": [],
   "source": [
    "data.Males = data.Males.str.replace(\",\",\"\")\n",
    "data.Females = data.Females.str.replace(\",\",\"\")"
   ]
  },
  {
   "cell_type": "code",
   "execution_count": 8,
   "id": "c95cb13f",
   "metadata": {},
   "outputs": [],
   "source": [
    "data.Males = data.Males.astype(int)\n",
    "data.Males = data.Females.astype(int)"
   ]
  },
  {
   "cell_type": "code",
   "execution_count": 9,
   "id": "a418dbe2",
   "metadata": {},
   "outputs": [
    {
     "name": "stdout",
     "output_type": "stream",
     "text": [
      "<class 'pandas.core.frame.DataFrame'>\n",
      "RangeIndex: 918 entries, 0 to 917\n",
      "Data columns (total 4 columns):\n",
      " #   Column   Non-Null Count  Dtype \n",
      "---  ------   --------------  ----- \n",
      " 0   Age      918 non-null    object\n",
      " 1   Year     918 non-null    int64 \n",
      " 2   Males    918 non-null    int32 \n",
      " 3   Females  918 non-null    object\n",
      "dtypes: int32(1), int64(1), object(2)\n",
      "memory usage: 25.2+ KB\n"
     ]
    }
   ],
   "source": [
    "data.info()"
   ]
  },
  {
   "cell_type": "code",
   "execution_count": 10,
   "id": "26ae8896",
   "metadata": {},
   "outputs": [
    {
     "data": {
      "text/html": [
       "<div>\n",
       "<style scoped>\n",
       "    .dataframe tbody tr th:only-of-type {\n",
       "        vertical-align: middle;\n",
       "    }\n",
       "\n",
       "    .dataframe tbody tr th {\n",
       "        vertical-align: top;\n",
       "    }\n",
       "\n",
       "    .dataframe thead th {\n",
       "        text-align: right;\n",
       "    }\n",
       "</style>\n",
       "<table border=\"1\" class=\"dataframe\">\n",
       "  <thead>\n",
       "    <tr style=\"text-align: right;\">\n",
       "      <th></th>\n",
       "      <th>Age</th>\n",
       "      <th>Year</th>\n",
       "      <th>Males</th>\n",
       "      <th>Females</th>\n",
       "    </tr>\n",
       "  </thead>\n",
       "  <tbody>\n",
       "    <tr>\n",
       "      <th>0</th>\n",
       "      <td>0 to 4 years</td>\n",
       "      <td>1971</td>\n",
       "      <td>897314</td>\n",
       "      <td>897314</td>\n",
       "    </tr>\n",
       "    <tr>\n",
       "      <th>1</th>\n",
       "      <td>0 to 4 years</td>\n",
       "      <td>1972</td>\n",
       "      <td>879950</td>\n",
       "      <td>879950</td>\n",
       "    </tr>\n",
       "    <tr>\n",
       "      <th>2</th>\n",
       "      <td>0 to 4 years</td>\n",
       "      <td>1973</td>\n",
       "      <td>871480</td>\n",
       "      <td>871480</td>\n",
       "    </tr>\n",
       "    <tr>\n",
       "      <th>3</th>\n",
       "      <td>0 to 4 years</td>\n",
       "      <td>1974</td>\n",
       "      <td>865968</td>\n",
       "      <td>865968</td>\n",
       "    </tr>\n",
       "    <tr>\n",
       "      <th>4</th>\n",
       "      <td>0 to 4 years</td>\n",
       "      <td>1975</td>\n",
       "      <td>862260</td>\n",
       "      <td>862260</td>\n",
       "    </tr>\n",
       "    <tr>\n",
       "      <th>5</th>\n",
       "      <td>0 to 4 years</td>\n",
       "      <td>1976</td>\n",
       "      <td>857116</td>\n",
       "      <td>857116</td>\n",
       "    </tr>\n",
       "    <tr>\n",
       "      <th>6</th>\n",
       "      <td>0 to 4 years</td>\n",
       "      <td>1977</td>\n",
       "      <td>858401</td>\n",
       "      <td>858401</td>\n",
       "    </tr>\n",
       "    <tr>\n",
       "      <th>7</th>\n",
       "      <td>0 to 4 years</td>\n",
       "      <td>1978</td>\n",
       "      <td>861724</td>\n",
       "      <td>861724</td>\n",
       "    </tr>\n",
       "    <tr>\n",
       "      <th>8</th>\n",
       "      <td>0 to 4 years</td>\n",
       "      <td>1979</td>\n",
       "      <td>867487</td>\n",
       "      <td>867487</td>\n",
       "    </tr>\n",
       "    <tr>\n",
       "      <th>9</th>\n",
       "      <td>0 to 4 years</td>\n",
       "      <td>1980</td>\n",
       "      <td>872638</td>\n",
       "      <td>872638</td>\n",
       "    </tr>\n",
       "  </tbody>\n",
       "</table>\n",
       "</div>"
      ],
      "text/plain": [
       "            Age  Year   Males Females\n",
       "0  0 to 4 years  1971  897314  897314\n",
       "1  0 to 4 years  1972  879950  879950\n",
       "2  0 to 4 years  1973  871480  871480\n",
       "3  0 to 4 years  1974  865968  865968\n",
       "4  0 to 4 years  1975  862260  862260\n",
       "5  0 to 4 years  1976  857116  857116\n",
       "6  0 to 4 years  1977  858401  858401\n",
       "7  0 to 4 years  1978  861724  861724\n",
       "8  0 to 4 years  1979  867487  867487\n",
       "9  0 to 4 years  1980  872638  872638"
      ]
     },
     "execution_count": 10,
     "metadata": {},
     "output_type": "execute_result"
    }
   ],
   "source": [
    "data.head(10)"
   ]
  },
  {
   "cell_type": "code",
   "execution_count": 11,
   "id": "73e9d697",
   "metadata": {},
   "outputs": [
    {
     "data": {
      "text/plain": [
       "array([1971, 1972, 1973, 1974, 1975, 1976, 1977, 1978, 1979, 1980, 1981,\n",
       "       1982, 1983, 1984, 1985, 1986, 1987, 1988, 1989, 1990, 1991, 1992,\n",
       "       1993, 1994, 1995, 1996, 1997, 1998, 1999, 2000, 2001, 2002, 2003,\n",
       "       2004, 2005, 2006, 2007, 2008, 2009, 2010, 2011, 2012, 2013, 2014,\n",
       "       2015, 2016, 2017, 2018, 2019, 2020, 2021], dtype=int64)"
      ]
     },
     "execution_count": 11,
     "metadata": {},
     "output_type": "execute_result"
    }
   ],
   "source": [
    "year_list: ndarray  = data.Year.unique()\n",
    "year_list"
   ]
  },
  {
   "cell_type": "code",
   "execution_count": 12,
   "id": "c6cd19eb",
   "metadata": {},
   "outputs": [
    {
     "data": {
      "text/plain": [
       "array(['0 to 4 years', '5 to 9 years', '10 to 14 years', '15 to 19 years',\n",
       "       '20 to 24 years', '25 to 29 years', '30 to 34 years',\n",
       "       '35 to 39 years', '40 to 44 years', '45 to 49 years',\n",
       "       '50 to 54 years', '55 to 59 years', '60 to 64 years',\n",
       "       '65 to 69 years', '70 to 74 years', '75 to 79 years',\n",
       "       '80 to 84 years', '85 to 89 years'], dtype=object)"
      ]
     },
     "execution_count": 12,
     "metadata": {},
     "output_type": "execute_result"
    }
   ],
   "source": [
    "age_group_list: ndarray = data.Age.unique()\n",
    "age_group_list"
   ]
  },
  {
   "cell_type": "code",
   "execution_count": null,
   "id": "dfd0578a",
   "metadata": {},
   "outputs": [],
   "source": []
  }
 ],
 "metadata": {
  "kernelspec": {
   "display_name": "Python 3 (ipykernel)",
   "language": "python",
   "name": "python3"
  },
  "language_info": {
   "codemirror_mode": {
    "name": "ipython",
    "version": 3
   },
   "file_extension": ".py",
   "mimetype": "text/x-python",
   "name": "python",
   "nbconvert_exporter": "python",
   "pygments_lexer": "ipython3",
   "version": "3.10.9"
  }
 },
 "nbformat": 4,
 "nbformat_minor": 5
}
