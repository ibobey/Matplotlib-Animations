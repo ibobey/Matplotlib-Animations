{
 "cells": [
  {
   "cell_type": "code",
   "execution_count": 1,
   "id": "ab0bb582",
   "metadata": {},
   "outputs": [],
   "source": [
    "import pandas as pd\n",
    "import numpy as np\n",
    "import seaborn as sns\n",
    "import matplotlib.pyplot as plt\n",
    "from numpy import ndarray\n",
    "\n",
    "from celluloid import Camera"
   ]
  },
  {
   "cell_type": "code",
   "execution_count": 2,
   "id": "6cd814c3",
   "metadata": {},
   "outputs": [],
   "source": [
    "data = pd.read_csv(\"population_data\")"
   ]
  },
  {
   "cell_type": "code",
   "execution_count": 3,
   "id": "f37258b3",
   "metadata": {},
   "outputs": [],
   "source": [
    "data.rename(columns={\n",
    "    'Age Group': \"Age\",\n",
    "    'Year': \"Year\",\n",
    "    'Males': \"Males\", \n",
    "    'Females':\"Females\"},inplace=True)"
   ]
  },
  {
   "cell_type": "code",
   "execution_count": 4,
   "id": "953c74dd",
   "metadata": {},
   "outputs": [],
   "source": [
    "data.Age = data.Age.fillna(method=\"ffill\")"
   ]
  },
  {
   "cell_type": "code",
   "execution_count": 5,
   "id": "642899bd",
   "metadata": {},
   "outputs": [],
   "source": [
    "data.Males = data.Males.str.replace(\",\",\"\")\n",
    "data.Males = data.Males.astype(int)\n",
    "\n",
    "\n",
    "data.Females = data.Females.str.replace(\",\",\"\")\n",
    "data.Females = data.Females.astype(int)"
   ]
  },
  {
   "cell_type": "code",
   "execution_count": 6,
   "id": "65990211",
   "metadata": {},
   "outputs": [],
   "source": [
    "year_list: ndarray  = data.Year.unique()"
   ]
  },
  {
   "cell_type": "code",
   "execution_count": 7,
   "id": "7a77596e",
   "metadata": {},
   "outputs": [],
   "source": [
    "%matplotlib qt"
   ]
  },
  {
   "cell_type": "code",
   "execution_count": 8,
   "id": "5febb139",
   "metadata": {},
   "outputs": [],
   "source": [
    "sns.set_theme(\n",
    "    context='paper',\n",
    "    style='ticks',\n",
    "    palette='pastel')"
   ]
  },
  {
   "cell_type": "code",
   "execution_count": 9,
   "id": "3ea2b575",
   "metadata": {},
   "outputs": [],
   "source": [
    "figure,ax = plt.subplots(figsize=(11.5,8.5))\n",
    "camera = Camera(figure)\n",
    "\n",
    "for year in year_list:\n",
    "    test_data = data[data.Year == year]\n",
    "    x = test_data.Age\n",
    "    y_male = test_data.Males\n",
    "    y_female = -test_data.Females\n",
    "\n",
    "    bar_males = ax.barh(x,\n",
    "                        y_male,\n",
    "                        color=\"#007FFF\",\n",
    "                        alpha=0.35)\n",
    "\n",
    "\n",
    "    bar_females = ax.barh(x,\n",
    "                          y_female,\n",
    "                          color=\"#F9629F\",\n",
    "                          alpha=0.35)\n",
    "\n",
    "    ax.scatter(y_male,\n",
    "            x,\n",
    "            color=\"#FF0000\",\n",
    "            alpha=0.5)\n",
    "\n",
    "    ax.scatter(y_female,\n",
    "            x,\n",
    "            color=\"#FF0000\",\n",
    "            alpha=0.5)\n",
    "\n",
    "\n",
    "    ax.bar_label(bar_males,\n",
    "                 labels=[str(int(i // 1e3)) + \"k\" for i in y_male])\n",
    "    ax.bar_label(bar_females,\n",
    "                 labels=[str(int(abs(i // 1e3))) + \"k\" for i in y_female])\n",
    "\n",
    "    ax.text(1e6,17,\"Year: {}\".format(year),fontdict={\"fontsize\":14})\n",
    "    camera.snap()\n",
    "        \n",
    "    \n",
    "animation = camera.animate(interval= 120, \n",
    "                           repeat= True)\n",
    "\n",
    "\n",
    "ax.axvline(0,color=\"#FF0000\",ls=\"--\",alpha=0.35)\n",
    "\n",
    "ax.set_xticks([])\n",
    "ax.grid(True,alpha=0.5,ls=\"-.\")\n",
    "ax.set_xlabel(\"F - M\")\n",
    "ax.set_ylabel(\"Age\")\n",
    "\n",
    "\n",
    "sns.despine(left=True)\n",
    "plt.title(\"Population of Canada 1971 - 2021 \", fontdict={\"fontsize\":20})\n",
    "plt.show()"
   ]
  },
  {
   "cell_type": "code",
   "execution_count": 11,
   "id": "33f41a09",
   "metadata": {},
   "outputs": [],
   "source": [
    "animation.save(\"animation.gif\",writer=\"PillowWriter\")"
   ]
  },
  {
   "cell_type": "code",
   "execution_count": null,
   "id": "6cd4d4c2",
   "metadata": {},
   "outputs": [],
   "source": []
  }
 ],
 "metadata": {
  "kernelspec": {
   "display_name": "Python 3 (ipykernel)",
   "language": "python",
   "name": "python3"
  },
  "language_info": {
   "codemirror_mode": {
    "name": "ipython",
    "version": 3
   },
   "file_extension": ".py",
   "mimetype": "text/x-python",
   "name": "python",
   "nbconvert_exporter": "python",
   "pygments_lexer": "ipython3",
   "version": "3.10.9"
  }
 },
 "nbformat": 4,
 "nbformat_minor": 5
}
